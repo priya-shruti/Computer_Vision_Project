{
 "cells": [
  {
   "cell_type": "code",
   "execution_count": 1,
   "id": "4dc1471f-d4b9-4e97-afdb-183a9404538b",
   "metadata": {},
   "outputs": [],
   "source": [
    "import cv2"
   ]
  },
  {
   "cell_type": "code",
   "execution_count": 3,
   "id": "40d58413-4a56-4154-8d6b-49d60fcaa3aa",
   "metadata": {},
   "outputs": [
    {
     "name": "stdout",
     "output_type": "stream",
     "text": [
      "Collecting opencv-python\n",
      "  Downloading opencv_python-4.10.0.84-cp37-abi3-win_amd64.whl.metadata (20 kB)\n",
      "Requirement already satisfied: numpy>=1.21.2 in d:\\anaconda\\lib\\site-packages (from opencv-python) (1.26.4)\n",
      "Downloading opencv_python-4.10.0.84-cp37-abi3-win_amd64.whl (38.8 MB)\n",
      "   ---------------------------------------- 0.0/38.8 MB ? eta -:--:--\n",
      "   ---------------------------------------- 0.0/38.8 MB 660.6 kB/s eta 0:00:59\n",
      "   ---------------------------------------- 0.1/38.8 MB 919.0 kB/s eta 0:00:43\n",
      "   ---------------------------------------- 0.2/38.8 MB 1.3 MB/s eta 0:00:30\n",
      "   ---------------------------------------- 0.4/38.8 MB 2.3 MB/s eta 0:00:17\n",
      "    --------------------------------------- 0.9/38.8 MB 4.2 MB/s eta 0:00:10\n",
      "   -- ------------------------------------- 2.1/38.8 MB 7.9 MB/s eta 0:00:05\n",
      "   --- ------------------------------------ 3.6/38.8 MB 11.6 MB/s eta 0:00:04\n",
      "   ----- ---------------------------------- 4.9/38.8 MB 13.7 MB/s eta 0:00:03\n",
      "   ------ --------------------------------- 6.1/38.8 MB 15.0 MB/s eta 0:00:03\n",
      "   ------ --------------------------------- 6.1/38.8 MB 15.0 MB/s eta 0:00:03\n",
      "   ------ --------------------------------- 6.1/38.8 MB 15.0 MB/s eta 0:00:03\n",
      "   ------- -------------------------------- 7.7/38.8 MB 14.1 MB/s eta 0:00:03\n",
      "   --------- ------------------------------ 9.3/38.8 MB 15.7 MB/s eta 0:00:02\n",
      "   ---------- ----------------------------- 10.1/38.8 MB 15.8 MB/s eta 0:00:02\n",
      "   ----------- ---------------------------- 10.9/38.8 MB 21.8 MB/s eta 0:00:02\n",
      "   ------------ --------------------------- 12.1/38.8 MB 22.6 MB/s eta 0:00:02\n",
      "   ------------ --------------------------- 12.1/38.8 MB 22.6 MB/s eta 0:00:02\n",
      "   ------------ --------------------------- 12.1/38.8 MB 22.6 MB/s eta 0:00:02\n",
      "   ------------ --------------------------- 12.1/38.8 MB 22.6 MB/s eta 0:00:02\n",
      "   -------------- ------------------------- 14.3/38.8 MB 17.2 MB/s eta 0:00:02\n",
      "   --------------- ------------------------ 15.1/38.8 MB 17.7 MB/s eta 0:00:02\n",
      "   --------------- ------------------------ 15.1/38.8 MB 15.6 MB/s eta 0:00:02\n",
      "   --------------- ------------------------ 15.1/38.8 MB 15.6 MB/s eta 0:00:02\n",
      "   ---------------- ----------------------- 16.0/38.8 MB 14.2 MB/s eta 0:00:02\n",
      "   ------------------ --------------------- 17.8/38.8 MB 16.8 MB/s eta 0:00:02\n",
      "   ------------------- -------------------- 19.2/38.8 MB 16.8 MB/s eta 0:00:02\n",
      "   -------------------- ------------------- 19.7/38.8 MB 15.6 MB/s eta 0:00:02\n",
      "   -------------------- ------------------- 20.3/38.8 MB 15.6 MB/s eta 0:00:02\n",
      "   --------------------- ------------------ 20.4/38.8 MB 15.2 MB/s eta 0:00:02\n",
      "   --------------------- ------------------ 21.0/38.8 MB 14.9 MB/s eta 0:00:02\n",
      "   ---------------------- ----------------- 21.5/38.8 MB 13.6 MB/s eta 0:00:02\n",
      "   ---------------------- ----------------- 22.1/38.8 MB 13.6 MB/s eta 0:00:02\n",
      "   ----------------------- ---------------- 22.6/38.8 MB 16.4 MB/s eta 0:00:01\n",
      "   ----------------------- ---------------- 23.2/38.8 MB 16.0 MB/s eta 0:00:01\n",
      "   ------------------------ --------------- 23.7/38.8 MB 14.6 MB/s eta 0:00:02\n",
      "   ------------------------ --------------- 24.2/38.8 MB 14.2 MB/s eta 0:00:02\n",
      "   ------------------------- -------------- 24.7/38.8 MB 12.8 MB/s eta 0:00:02\n",
      "   -------------------------- ------------- 25.4/38.8 MB 15.2 MB/s eta 0:00:01\n",
      "   -------------------------- ------------- 26.0/38.8 MB 14.6 MB/s eta 0:00:01\n",
      "   --------------------------- ------------ 26.6/38.8 MB 13.9 MB/s eta 0:00:01\n",
      "   --------------------------- ------------ 27.2/38.8 MB 13.4 MB/s eta 0:00:01\n",
      "   ---------------------------- ----------- 27.8/38.8 MB 12.4 MB/s eta 0:00:01\n",
      "   ---------------------------- ----------- 28.2/38.8 MB 12.4 MB/s eta 0:00:01\n",
      "   ----------------------------- ---------- 28.5/38.8 MB 12.1 MB/s eta 0:00:01\n",
      "   ----------------------------- ---------- 29.0/38.8 MB 11.7 MB/s eta 0:00:01\n",
      "   ------------------------------ --------- 29.9/38.8 MB 11.5 MB/s eta 0:00:01\n",
      "   ------------------------------- -------- 30.5/38.8 MB 11.5 MB/s eta 0:00:01\n",
      "   ------------------------------- -------- 30.9/38.8 MB 11.9 MB/s eta 0:00:01\n",
      "   -------------------------------- ------- 31.3/38.8 MB 11.5 MB/s eta 0:00:01\n",
      "   -------------------------------- ------- 31.9/38.8 MB 11.9 MB/s eta 0:00:01\n",
      "   --------------------------------- ------ 32.7/38.8 MB 11.9 MB/s eta 0:00:01\n",
      "   --------------------------------- ------ 33.0/38.8 MB 11.9 MB/s eta 0:00:01\n",
      "   ---------------------------------- ----- 33.4/38.8 MB 11.5 MB/s eta 0:00:01\n",
      "   ----------------------------------- ---- 34.0/38.8 MB 11.7 MB/s eta 0:00:01\n",
      "   ----------------------------------- ---- 34.9/38.8 MB 12.1 MB/s eta 0:00:01\n",
      "   ------------------------------------ --- 35.1/38.8 MB 12.1 MB/s eta 0:00:01\n",
      "   ------------------------------------ --- 35.6/38.8 MB 11.5 MB/s eta 0:00:01\n",
      "   ------------------------------------- -- 36.3/38.8 MB 11.9 MB/s eta 0:00:01\n",
      "   ------------------------------------- -- 36.7/38.8 MB 11.3 MB/s eta 0:00:01\n",
      "   -------------------------------------- - 37.2/38.8 MB 11.3 MB/s eta 0:00:01\n",
      "   -------------------------------------- - 37.7/38.8 MB 11.3 MB/s eta 0:00:01\n",
      "   ---------------------------------------  38.2/38.8 MB 11.5 MB/s eta 0:00:01\n",
      "   ---------------------------------------  38.3/38.8 MB 10.9 MB/s eta 0:00:01\n",
      "   ---------------------------------------  38.8/38.8 MB 11.3 MB/s eta 0:00:01\n",
      "   ---------------------------------------  38.8/38.8 MB 11.3 MB/s eta 0:00:01\n",
      "   ---------------------------------------- 38.8/38.8 MB 10.2 MB/s eta 0:00:00\n",
      "Installing collected packages: opencv-python\n",
      "Successfully installed opencv-python-4.10.0.84\n",
      "Note: you may need to restart the kernel to use updated packages.\n"
     ]
    }
   ],
   "source": [
    "pip install opencv-python"
   ]
  },
  {
   "cell_type": "code",
   "execution_count": 5,
   "id": "e0898432-a774-493c-a529-52a7bdac0621",
   "metadata": {},
   "outputs": [],
   "source": [
    "import cv2"
   ]
  },
  {
   "cell_type": "code",
   "execution_count": 3,
   "id": "2ccb6f65-e7cc-4460-b0bb-1be8b08c02d5",
   "metadata": {},
   "outputs": [
    {
     "name": "stderr",
     "output_type": "stream",
     "text": [
      "<>:1: SyntaxWarning: invalid escape sequence '\\A'\n",
      "<>:1: SyntaxWarning: invalid escape sequence '\\A'\n",
      "C:\\Users\\Sumit_Sinha\\AppData\\Local\\Temp\\ipykernel_1064\\2448277035.py:1: SyntaxWarning: invalid escape sequence '\\A'\n",
      "  img1=cv2.imread(\"D:\\Assets\\photo55.png\",0)\n"
     ]
    },
    {
     "name": "stdout",
     "output_type": "stream",
     "text": [
      "[[207 207 207 ... 212 212 212]\n",
      " [206 206 206 ... 212 211 211]\n",
      " [206 206 206 ... 211 211 211]\n",
      " ...\n",
      " [156 156 156 ... 205 205 205]\n",
      " [156 156 156 ... 205 205 205]\n",
      " [157 157 157 ... 205 205 205]]\n"
     ]
    }
   ],
   "source": [
    "img1=cv2.imread(\"D:\\Assets\\photo55.png\",0)\n",
    "img1=cv2.resize(img1,(1200,700))\n",
    "print(img1)\n",
    "cv2.imshow(\"original\",img1)\n",
    "cv2.waitKey()\n",
    "cv2.destroyAllWindows()"
   ]
  },
  {
   "cell_type": "code",
   "execution_count": 5,
   "id": "6b56858e-07ee-41e6-889c-778a408f3092",
   "metadata": {},
   "outputs": [
    {
     "name": "stderr",
     "output_type": "stream",
     "text": [
      "<>:1: SyntaxWarning: invalid escape sequence '\\S'\n",
      "<>:1: SyntaxWarning: invalid escape sequence '\\S'\n",
      "C:\\Users\\Sumit_Sinha\\AppData\\Local\\Temp\\ipykernel_1064\\3810876678.py:1: SyntaxWarning: invalid escape sequence '\\S'\n",
      "  cap=cv2.VideoCapture(\"D:\\Sumit\\Sumit Docx\\Videos\\my.mp4\")\n"
     ]
    },
    {
     "name": "stdout",
     "output_type": "stream",
     "text": [
      "cap < cv2.VideoCapture 00000237FA26A050>\n"
     ]
    }
   ],
   "source": [
    "cap=cv2.VideoCapture(\"D:\\Sumit\\Sumit Docx\\Videos\\my.mp4\")\n",
    "print(\"cap\",cap)\n",
    "\n",
    "while True:\n",
    "    ret,frame=cap.read()\n",
    "    cv2.imshow(\"frame\",frame)\n",
    "    k=cv2.waitKey(25)\n",
    "    if k==ord(\"q\"):\n",
    "        break\n",
    "cap.release()\n",
    "cv2.destroyAllWindows()"
   ]
  },
  {
   "cell_type": "code",
   "execution_count": 7,
   "id": "33a1d35d-81ec-40c2-9a92-c45846307a15",
   "metadata": {},
   "outputs": [
    {
     "name": "stdout",
     "output_type": "stream",
     "text": [
      "cap < cv2.VideoCapture 00000237FA26A1F0>\n"
     ]
    }
   ],
   "source": [
    "cap=cv2.VideoCapture(0)\n",
    "print(\"cap\",cap)\n",
    "while cap.isOpened():\n",
    "    ret,frame=cap.read()\n",
    "    if ret==True:\n",
    "        cv2.imshow(\"frame\",frame)\n",
    "        k=cv2.waitKey(25)\n",
    "        if k==ord(\"q\"):\n",
    "            break\n",
    "cap.release()\n",
    "cv2.destroyAllWindows()"
   ]
  },
  {
   "cell_type": "code",
   "execution_count": 9,
   "id": "54293053-afa6-467c-be79-401f3fc75531",
   "metadata": {},
   "outputs": [],
   "source": [
    "import numpy as np\n",
    "import cv2"
   ]
  },
  {
   "cell_type": "code",
   "execution_count": 41,
   "id": "2fbc67ca-3139-4c4c-93b9-37e67fdb7e85",
   "metadata": {},
   "outputs": [
    {
     "name": "stderr",
     "output_type": "stream",
     "text": [
      "<>:1: SyntaxWarning: invalid escape sequence '\\A'\n",
      "<>:1: SyntaxWarning: invalid escape sequence '\\A'\n",
      "C:\\Users\\Sumit_Sinha\\AppData\\Local\\Temp\\ipykernel_1064\\1969482357.py:1: SyntaxWarning: invalid escape sequence '\\A'\n",
      "  img=cv2.imread(\"D:\\Assets\\photo55.png\")\n"
     ]
    }
   ],
   "source": [
    "img=cv2.imread(\"D:\\Assets\\photo55.png\")\n",
    "img=cv2.resize(img,(600,700))\n",
    "img=cv2.line(img,(0,0),(200,200),(245,7,31),5) #color format BGR\n",
    "img=cv2.arrowedLine(img,(0,125),(255,255),(255,0,125),10)\n",
    "img = cv2.rectangle(img, (384, 10), (510, 128), (128, 0, 255), 8)\n",
    "img = cv2.circle(img, (447, 125), 63, (214, 255, 0), -5)\n",
    "font = cv2.FONT_ITALIC\n",
    "img = cv2.putText(img, 'A Girl', (20, 500), font, 4, (0, 125, 255), 5,cv2.LINE_AA)\n",
    "img = cv2.ellipse(img,(400,600),(100,50),0,0,360,155,5)\n",
    "\n",
    "cv2.imshow(\"res\",img)\n",
    "cv2.waitKey(0)\n",
    "cv2.destroyAllWindows()"
   ]
  },
  {
   "cell_type": "code",
   "execution_count": null,
   "id": "d4f372f0-17f7-48a3-8895-acbbb7c7295a",
   "metadata": {},
   "outputs": [],
   "source": []
  }
 ],
 "metadata": {
  "kernelspec": {
   "display_name": "Python 3 (ipykernel)",
   "language": "python",
   "name": "python3"
  },
  "language_info": {
   "codemirror_mode": {
    "name": "ipython",
    "version": 3
   },
   "file_extension": ".py",
   "mimetype": "text/x-python",
   "name": "python",
   "nbconvert_exporter": "python",
   "pygments_lexer": "ipython3",
   "version": "3.12.4"
  }
 },
 "nbformat": 4,
 "nbformat_minor": 5
}
